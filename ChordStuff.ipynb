{
 "cells": [
  {
   "cell_type": "code",
   "execution_count": null,
   "metadata": {},
   "outputs": [],
   "source": [
    "import itertools\n",
    "import os\n",
    "import re\n",
    "import json\n",
    "import numpy as np\n",
    "import pandas as pd\n",
    "\n",
    "%matplotlib inline"
   ]
  },
  {
   "cell_type": "code",
   "execution_count": null,
   "metadata": {},
   "outputs": [],
   "source": [
    "def subsets(iterable, minimum=0):\n",
    "    for i in range(minimum, len(iterable) + 1):\n",
    "        for x in itertools.combinations(iterable, i):\n",
    "            yield x"
   ]
  },
  {
   "cell_type": "code",
   "execution_count": null,
   "metadata": {},
   "outputs": [],
   "source": [
    "class Chord(object):\n",
    "    \n",
    "    def __init__(self, root=None, intervals=set()):\n",
    "        self.root = root\n",
    "        self.intervals = intervals\n",
    "        if root is not None:\n",
    "            self.intervals.add(root)\n",
    "    \n",
    "    def __str__(self):\n",
    "        return '(root: ' + str(self.root) + ' intervals: ' + ', '.join([str(x) for x in self.intervals]) + ')'\n",
    "    \n",
    "    def __repr__(self):\n",
    "        return self.__str__()\n",
    "    \n",
    "    def __eq__(self, other):\n",
    "        return self.root == other.root and self.intervals == other.intervals\n",
    "    \n",
    "    def transpose(self, half_steps=1):\n",
    "        if self.root == None:\n",
    "            return self\n",
    "        return Chord((self.root + half_steps) % 12, set((i + half_steps) % 12 for i in self.intervals))\n",
    "    \n",
    "    def normalize(self):\n",
    "        return self.transpose(-1 * self.root)\n",
    "    \n",
    "    def add_note(self, note):\n",
    "        return Chord(self.root, self.intervals.union([note % 12]))\n",
    "    \n",
    "    def signature(self):\n",
    "        return [1 * (i == self.root) for i in range(12)] + [1 * (i in self.intervals) for i in range(12)]\n",
    "    \n",
    "    @staticmethod\n",
    "    def all_chords():\n",
    "        for x in subsets(range(12), minimum=3):\n",
    "            temp = set(x)\n",
    "            for i in temp:\n",
    "                yield Chord(i, temp)"
   ]
  },
  {
   "cell_type": "code",
   "execution_count": null,
   "metadata": {
    "scrolled": true
   },
   "outputs": [],
   "source": [
    "# def get_chord_dict():\n",
    "#     other_chord_dict = []\n",
    "#     with open('./chordmeanings2.txt') as stuff:\n",
    "#         for x in stuff.readlines():\n",
    "#             other_chord_dict += [(x[24:-3].replace('\"','').split(', '))[::-1]]\n",
    "#     other_chord_dict = dict(other_chord_dict)\n",
    "#     other_chord_dict['NC'] = 'NC'\n",
    "#     other_chord_dict['CBass'] = 'Bass'\n",
    "#     other_chord_dict\n",
    "#     chord_dict = dict()\n",
    "#     with open('./chordmeanings1.txt') as stuff:\n",
    "#         for x in stuff.readlines():\n",
    "#             temp = x.split()\n",
    "#             try:\n",
    "#                 chord_dict[other_chord_dict[temp[4]]] = [int(x[-2]) for x in temp[6:-1]]\n",
    "#             except:\n",
    "#                 print(temp[4])\n",
    "#     return chord_dict\n",
    "\n",
    "def isolate_stem(chord_word):\n",
    "    if 'Bass' in chord_word:\n",
    "        return 'Bass'\n",
    "    if '\\\\' in chord_word:\n",
    "        return\n",
    "    elif '/' in chord_word:\n",
    "        temp = chord_word.split('/')[0]\n",
    "        for n in notes:\n",
    "            if n in temp:\n",
    "                return temp.replace(n, '')\n",
    "    else:\n",
    "        for n in notes:\n",
    "            if n in chord_word:\n",
    "                return chord_word.replace(n, '')\n",
    "\n",
    "def note_to_num(note):\n",
    "    notedict = {'A':9,'B':11,'C':0,'D':2,'E':4,'F':5,'G':7}\n",
    "    try:\n",
    "        number = notedict[note[0]]\n",
    "    except:\n",
    "        number = 0\n",
    "    if '#' in note:\n",
    "        number = (number + 1) % 12\n",
    "    if 'b' in note:\n",
    "        number = (number - 1) % 12\n",
    "    return number\n",
    "\n",
    "def parse_chordline(s):\n",
    "    temp = s.split()\n",
    "    out = []\n",
    "    contin = True\n",
    "    while contin:\n",
    "        out = []\n",
    "        contin = False\n",
    "        for i, x in enumerate(temp):\n",
    "            if x == '|' or x == '/':\n",
    "                out += [temp[i - 1]]\n",
    "                contin = True\n",
    "            else:\n",
    "                out += [x]\n",
    "        temp = out[:]\n",
    "    return out\n",
    "\n",
    "def stretch_chords(c):\n",
    "    if len(c) == 0:\n",
    "        return c\n",
    "    if len(c) == 1:\n",
    "        return c + c + c + c + c + c + c + c\n",
    "    elif len(c) == 2:\n",
    "        return c + c + c + c\n",
    "    elif len(c) == 4:\n",
    "        return c + c\n",
    "    elif len(c) == 8:\n",
    "        return c\n",
    "    else:\n",
    "        raise Exception()\n",
    "\n",
    "def parse_chordlines(chordlines):\n",
    "    out = sum([stretch_chords(y.split()) for y in (''.join([x[:-1] for x in chordlines])).split('|')], [])\n",
    "    for i, c in enumerate(out):\n",
    "        if c == '/':\n",
    "            out[i] = out[i - 1]\n",
    "    return out\n",
    "\n",
    "def get_chords(path):\n",
    "    with open(path) as leadsheet:\n",
    "        chordlines = []\n",
    "        temp = ''\n",
    "        for line in leadsheet.readlines():\n",
    "            if '|' in line:\n",
    "                temp += re.sub(\"[\\(\\[].*?[\\)\\]]\", \"\", line.replace('\\n',''))\n",
    "        return [x.replace('|', '') for x in parse_chordline(temp) if x != ')']\n",
    "\n",
    "# def get_chords(path):\n",
    "#     with open(path) as leadsheet:\n",
    "#         print(path)\n",
    "#         temp = [x for x in leadsheet.readlines() if '|' in x]\n",
    "#     return parse_chordlines([x for x in temp if x != ')'])\n",
    "\n",
    "def process_leadsheets():\n",
    "    sheet_dict = dict()\n",
    "    for path in ['./the-imaginary-book-part-1-A-M/', './the-imaginary-book-part-2-N-Z/']:\n",
    "        for fn in os.listdir(path=path):\n",
    "            if '.ls' in fn:\n",
    "                sheet_dict[fn.replace('.ls', '')] = ' '.join(get_chords(path + fn))\n",
    "    with open('sheets.json', 'w') as file:\n",
    "        json.dump(sheet_dict, file)"
   ]
  },
  {
   "cell_type": "code",
   "execution_count": null,
   "metadata": {},
   "outputs": [],
   "source": [
    "new_chord_defs = ('C.............. same as CM\\nCM............. C major (c e g)\\nC2............. same as CMadd9\\nC5............. C five (c g)\\nC6............. same as CM6\\nC69............ same as CM69\\nC6#11.......... same as CM6#11\\nC69#11......... same as CM69#11\\nC6b5........... same as CM6#11\\nCM13........... C major thirteen (c e g b d a)\\nCM13#11........ C major thirteen sharp eleven (c e g b d f# a)\\nCmaj13......... same as CM13\\nCMaj13......... same as CM13\\nCmaj13#11...... same as CM13#11\\nCMaj13#11...... same as CM13#11\\nCM6............ C major six (c e g a)\\nCM6#11......... C major six sharp eleven (c e g a f#)\\nCM6b5.......... same as CM6#11\\nCM69#11........ C major six nine sharp eleven (c e g a d f#)\\nCM69........... C major six nine (c e g a d)\\nCM7#11......... C major seven sharp eleven (c e g b f#)\\nCM7............ C major seven (c e g b)\\nCmaj7.......... same as CM7\\nCMaj7.......... same as CM7\\nCmaj7#11....... same as CM7#11\\nCMaj7#11....... same as CM7#11\\nCM7add13....... C major seven add 13 (c e g a b d)\\nCM7b5.......... C major seven flat five (c e gb b)\\nCM7b6.......... C major seven flat six (c e g ab b)\\nCM7b9.......... C major seven flat nine (c e g b db)\\nCM9............ C major nine (c e g b d)\\nCM9#11......... C major nine sharp eleven (c e g b d f#)\\nCmaj9.......... same as CM9\\nCMaj9.......... same as CM9\\nCmaj9#11....... same as CM9#11\\nCMaj9#11....... same as CM9#11\\nCM9b5.......... C major nine flat five (c e gb b d)\\nCMadd9......... C major add nine (c e g d)\\nCMb5........... C major flat five (c e gb)\\nCMb6........... C major flat six (c e ab)\\nCadd2.......... same as CMadd9\\nCadd9.......... same as CMadd9\\nCadd9no3....... same as CMsus2\\n\\nMinor Chords\\n\\nCm#5........... C minor sharp five (c eb g#)\\nCm+............ same as Cm#5\\nCm............. C minor (c eb g)\\nCm11#5......... C minor eleven sharp five (c eb ab bb d f)\\nCm11........... C minor eleven (c eb g bb d f)\\nCm11b5......... C minor eleven flat five (c eb bb gb d f)\\nCm13........... C minor thirteen (c eb g bb d f a)\\nCm6............ C minor six (c eb g a)\\nCm69........... C minor six nine (c eb g a d)\\nCm7#5.......... C minor seven sharp five (c eb ab bb)\\nCm7............ C minor seven (c eb g bb)\\nCm7b5.......... C minor seven flat five (c eb gb bb)\\nCh............. same as Cm7b5 (h for \\\"half-diminished\\\")\\nCm9#5.......... C minor nine sharp five (c eb ab bb d)\\nCm9............ C minor nine (c eb g bb d)\\nCm9b5.......... C minor nine flat five (c eb bb gb d)\\nCmM7........... C minor major seven (c eb g b)\\nCmM7b6......... C minor major seven flat six (c eb g ab b)\\nCmM9........... C minor major nine (c eb g b d)\\nCmadd9......... C minor add nine (c eb g d)\\nCmb6........... C minor flat six (c eb ab)\\nCmb6M7......... C minor flat six major 7 (c eb ab b)\\nCmb6b9......... C minor flat six flat nine (c eb ab db)\\n\\nDiminished Chords\\n\\nCdim........... C diminished triad (c eb gb)\\nCo............. same as Cdim\\nCdim7.......... C diminished seventh (c eb gb a)\\nCo7............ same as Cdim7\\nCoM7........... C diminished major seventh (c eb gb b)\\nCo7M7.......... C diminished seventh major seventh (c eb gb a b)\\n\\nAugmented Chords\\n\\nCM#5........... C major sharp five (c e g#)\\nC+............. same as CM#5\\nCaug........... same as CM#5\\nC+7............ same as C7#5\\nCM#5add9....... C major sharp five add 9 (c e g# d)\\nCM7#5.......... C major seven sharp five (c e g# b)\\nCM7+........... same as CM7#5\\nCM9#5.......... C major nine sharp five (c e g# b d)\\nC+add9......... same as CM#5add9\\n\\nDominant Chords\\n\\nC7............. C seven (c e g bb)\\nC7#5........... C seven sharp five (c e g# bb)\\nC7+............ same as C7#5\\nCaug7.......... same as C7#5\\nC7aug.......... same as C7#5\\nC7#5#9......... C seven sharp five sharp nine (c e g# bb d#)\\nC7alt.......... same as C7#5#9\\nC7b13.......... C seven flat thirteen (c e g bb ab)\\nC7b5#9......... same as C7#9#11\\nC7b5........... C seven flat five (c e gb bb)\\nC7b5b13........ same as C7#11b13\\nC7b5b9......... same as C7b9#11\\nC7b5b9b13...... same as C7b9#11b13\\nC7b6........... C seven flat six (c e g ab bb)\\nC7b9#11........ C seven flat nine sharp eleven (c e g bb db f#)\\nC7b9#11b13..... C seven flat nine sharp eleven flat thirteen (c e g bb db f# ab)\\nC7b9........... C seven flat nine (c e g bb db)\\nC7b9b13#11..... C seven flat nine flat thirteen sharp eleven (c e g bb db f# ab)\\nC7b9b13........ C seven flat nine flat thirteen (c e g bb db ab)\\nC7no5.......... C seven no five (c e bb)\\nC7#11.......... C seven sharp eleven (c e g bb f#)\\nC7#11b13....... C seven sharp eleven flat thirteen (c e g bb f# ab)\\nC7#5b9#11...... C seven sharp five flat nine sharp 11 (c e g# bb db f#)\\nC7#5b9......... C seven sharp five flat nine (c e g# bb db)\\nC7#9#11........ C seven sharp nine sharp eleven (c e g bb d# f#)\\nC7#9#11b13..... C seven sharp nine sharp eleven flat thirteen (c e g bb d# f# ab)\\nC7#9........... C seven sharp nine (c e g bb d#)\\nC7#9b13........ C seven sharp nine flat thirteen (c e g bb d# ab)\\n\\nC9............. C nine (c e g bb d)\\nC9#5........... C nine sharp five (c e g# bb d)\\nC9+............ same as C9#5\\nC9#11.......... C nine sharp eleven (c e g bb d f#)\\nC9#11b13....... C nine sharp eleven flat thirteen (c e g bb d f# ab)\\nC9#5#11........ C nine sharp five sharp eleven (c e g# bb d f#)\\nC9b13.......... C nine flat thirteen (c e g bb d ab)\\nC9b5........... C nine flat five (c e gb bb d)\\nC9b5b13........ same as C9#11b13\\nC9no5.......... C nine no five (c e bb d)\\n\\nC13#11......... C thirteen sharp eleven (c e g bb d f# a)\\nC13#9#11....... C thirteen sharp nine sharp eleven (c e g bb d# f# a)\\nC13#9.......... C thirteen sharp nine (c e g bb d# a)\\nC13............ C thirteen (c e g bb d a)\\nC13b5.......... C thirteen flat five (c e gb a bb)\\nC13b9#11....... C thirteen flat nine sharp eleven (c e g bb db f# a)\\nC13b9.......... C thirteen flat nine (c e g bb db a)\\n\\nSuspensions\\n\\nCMsus2......... C major sus two (c d g)\\nCMsus4......... C major sus four (c f g)\\nCsus2.......... same as CMsus2\\nCsus24......... C sus two four (c d f g)\\nCsus4.......... same as CMsus4\\nCsus4add9...... same as Csus24\\nCsusb9......... C sus flat nine (c db f g)\\nC4............. C four (c f bb eb)\\nCquartal....... same as C4\\nC7b9b13sus4.... same as C7sus4b9b13\\nC7b9sus........ same as C7susb9\\nC7b9sus4....... same as C7sus4b9\\nC7b9sus4....... same as C7susb9\\nC7sus.......... same as C7sus4\\nC7sus4......... C seven sus four (c f g bb)\\nC7sus4b9....... C seven sus four flat nine (c f g bb db)\\nC7sus4b9b13.... C seven sus four flat nine flat thirteen (c f g bb db ab)\\nC7susb9........ C seven sus flat nine (c db f g bb)\\nC9sus4......... C nine sus four (c f g bb d)\\nC9sus.......... same as C9sus4\\nC11............ C eleven (c e g bb d f)\\nC13sus......... same as C13sus4\\nC13sus4........ C thirteen sus four (c f g bb d a)\\n\\nMiscellaneous\\n\\nCBlues......... C Blues (c eb f gb g bb) (Use upper case to avoid confusion with Cb = C flat)\\nCBass.......... C Bass (c) (Use upper case to avoid confusion with Cb = C flat)\\n')\n",
    "chord_defs = [[y for y in x.split('.') if y!=''] for x in new_chord_defs.split('\\n') if '.' in x]\n",
    "equivs = [[x[0][1:], x[1].replace(' same as ', '').replace(' (h for \"half-diminished\")', '')[1:]] for x in chord_defs if ' same as ' in x[1]]\n",
    "equivs += [['mMaj7','mM7'], ['h7','m7b5'], ['mb5', 'dim']]\n",
    "\n",
    "def make_into_intervals(chord_def):\n",
    "    temp = re.findall('\\(([^\\)]+)\\)', chord_def[1])[0]\n",
    "    temp = [chord_def[0][1:], [note_to_num(x.capitalize()) for x in temp.split()]]\n",
    "    return [temp[0], [1 * (i in temp[1]) for i in range(12)]]\n",
    "\n",
    "equiv_dict = dict([make_into_intervals(x) for x in chord_defs if ' same as ' not in x[1]])\n",
    "# print(equivs)\n",
    "equiv_dict = {**equiv_dict, **dict([[x[0], equiv_dict[x[1]]] for x in equivs])}\n",
    "equiv_dict['NC'] = [0] * 12"
   ]
  },
  {
   "cell_type": "code",
   "execution_count": null,
   "metadata": {},
   "outputs": [],
   "source": [
    "def process_chord(chord):\n",
    "    if 'NC' in chord:\n",
    "        return Chord()\n",
    "    if 'Bass' in chord:\n",
    "        for note in notes:\n",
    "            if chord[:len(note)] == note:\n",
    "                break\n",
    "        return Chord(note_to_num(note), {note_to_num(note)})\n",
    "    if '\\\\' in chord:\n",
    "        [poly, rest] = chord.split('\\\\')\n",
    "        poly = process_chord(poly)\n",
    "    else:\n",
    "        poly = None\n",
    "        rest = chord\n",
    "    if '/' in chord:\n",
    "        [shape, root] = rest.split('/')\n",
    "    else:\n",
    "        shape = rest\n",
    "        root = None\n",
    "    for note in notes:\n",
    "        if shape[:len(note)] == note:\n",
    "            break\n",
    "    mantissa = shape.replace(note, '')\n",
    "    chord_obj = Chord(0, set([i for i in range(12) if equiv_dict[mantissa][i]]))\n",
    "    chord_obj = chord_obj.transpose(note_to_num(note))\n",
    "    if root is not None:\n",
    "        chord_obj.root = note_to_num(root)\n",
    "    if poly is not None:\n",
    "        for n in poly.intervals:\n",
    "            chord_obj = chord_obj.add_note(n)\n",
    "    return chord_obj\n",
    "\n",
    "def process_leadsheet(sheet):\n",
    "    return [process_chord(x) for x in sheet.split()]\n",
    "\n",
    "def all_transpositions(sheet):\n",
    "    temp = process_leadsheet(sheet)\n",
    "    return [[chord.transpose(i) for chord in temp] for i in range(12)]"
   ]
  },
  {
   "cell_type": "code",
   "execution_count": null,
   "metadata": {},
   "outputs": [],
   "source": [
    "notes = [s + q for q in 'b#' for s in 'ABCDEFG'] + [s for s in 'ABCDEFG']"
   ]
  },
  {
   "cell_type": "code",
   "execution_count": null,
   "metadata": {},
   "outputs": [],
   "source": [
    "process_leadsheets()"
   ]
  },
  {
   "cell_type": "code",
   "execution_count": null,
   "metadata": {},
   "outputs": [],
   "source": [
    "with open('sheets.json') as file:\n",
    "    sheet_dict = json.load(file)"
   ]
  },
  {
   "cell_type": "code",
   "execution_count": null,
   "metadata": {},
   "outputs": [],
   "source": [
    "every_sheet = []\n",
    "for sheet in sheet_dict.values():\n",
    "    every_sheet += all_transpositions(sheet)"
   ]
  },
  {
   "cell_type": "code",
   "execution_count": null,
   "metadata": {},
   "outputs": [],
   "source": [
    "chords = set()\n",
    "for key in sheet_dict:\n",
    "    temp = sheet_dict[key].split()\n",
    "    for chord in temp:\n",
    "        chords.add(chord)\n",
    "chords"
   ]
  },
  {
   "cell_type": "code",
   "execution_count": null,
   "metadata": {},
   "outputs": [],
   "source": [
    "chord_formats = set()\n",
    "for x in chords:\n",
    "    chord_formats.add(isolate_stem(x))\n",
    "chord_formats"
   ]
  },
  {
   "cell_type": "code",
   "execution_count": null,
   "metadata": {},
   "outputs": [],
   "source": [
    "all_transpositions(sheet_dict['Dexterity'])"
   ]
  },
  {
   "cell_type": "code",
   "execution_count": null,
   "metadata": {},
   "outputs": [],
   "source": [
    "training_data = [[x.signature() for x in sheet] for sheet in every_sheet]"
   ]
  },
  {
   "cell_type": "code",
   "execution_count": null,
   "metadata": {},
   "outputs": [],
   "source": []
  },
  {
   "cell_type": "code",
   "execution_count": null,
   "metadata": {},
   "outputs": [],
   "source": []
  }
 ],
 "metadata": {
  "kernelspec": {
   "display_name": "Python [default]",
   "language": "python",
   "name": "python3"
  },
  "language_info": {
   "codemirror_mode": {
    "name": "ipython",
    "version": 3
   },
   "file_extension": ".py",
   "mimetype": "text/x-python",
   "name": "python",
   "nbconvert_exporter": "python",
   "pygments_lexer": "ipython3",
   "version": "3.6.4"
  }
 },
 "nbformat": 4,
 "nbformat_minor": 2
}
